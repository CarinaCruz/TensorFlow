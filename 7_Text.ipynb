{
 "cells": [
  {
   "cell_type": "markdown",
   "metadata": {},
   "source": [
    "# <b> Text classification with movie reviews\n",
    "    \n",
    "The IMDB dataset comes packaged with TensorFlow. It has already been preprocessed such that the reviews (sequences of words) have been converted to sequences of integers, where each integer represents a specific word in a dictionary."
   ]
  },
  {
   "cell_type": "markdown",
   "metadata": {},
   "source": [
    "#### <b> Imports"
   ]
  },
  {
   "cell_type": "code",
   "execution_count": 34,
   "metadata": {},
   "outputs": [
    {
     "name": "stdout",
     "output_type": "stream",
     "text": [
      "1.14.0\n"
     ]
    }
   ],
   "source": [
    "from __future__ import absolute_import, division, print_function, unicode_literals\n",
    "\n",
    "import tensorflow as tf\n",
    "from tensorflow import keras\n",
    "\n",
    "import numpy as np\n",
    "\n",
    "print(tf.__version__)\n"
   ]
  },
  {
   "cell_type": "markdown",
   "metadata": {},
   "source": [
    "#### <b> Load Data"
   ]
  },
  {
   "cell_type": "code",
   "execution_count": 35,
   "metadata": {},
   "outputs": [],
   "source": [
    "# The argument num_words=10000 keeps the top 10,000 most frequently occurring words in the training data. \n",
    "# The rare words are discarded to keep the size of the data manageable.\n",
    "imdb = keras.datasets.imdb\n",
    "(train_data, train_labels), (test_data, test_labels) = imdb.load_data(num_words=10000)"
   ]
  },
  {
   "cell_type": "markdown",
   "metadata": {},
   "source": [
    "#### <b> Explore Data"
   ]
  },
  {
   "cell_type": "code",
   "execution_count": 36,
   "metadata": {},
   "outputs": [
    {
     "data": {
      "text/plain": [
       "(((25000,), (25000,)), ((25000,), (25000,)))"
      ]
     },
     "execution_count": 36,
     "metadata": {},
     "output_type": "execute_result"
    }
   ],
   "source": [
    "(train_data.shape, train_labels.shape), (test_data.shape, test_labels.shape) "
   ]
  },
  {
   "cell_type": "code",
   "execution_count": 37,
   "metadata": {},
   "outputs": [
    {
     "name": "stdout",
     "output_type": "stream",
     "text": [
      "[1, 14, 22, 16, 43, 530, 973, 1622, 1385, 65, 458, 4468, 66, 3941, 4, 173, 36, 256, 5, 25, 100, 43, 838, 112, 50, 670, 2, 9, 35, 480, 284, 5, 150, 4, 172, 112, 167, 2, 336, 385, 39, 4, 172, 4536, 1111, 17, 546, 38, 13, 447, 4, 192, 50, 16, 6, 147, 2025, 19, 14, 22, 4, 1920, 4613, 469, 4, 22, 71, 87, 12, 16, 43, 530, 38, 76, 15, 13, 1247, 4, 22, 17, 515, 17, 12, 16, 626, 18, 2, 5, 62, 386, 12, 8, 316, 8, 106, 5, 4, 2223, 5244, 16, 480, 66, 3785, 33, 4, 130, 12, 16, 38, 619, 5, 25, 124, 51, 36, 135, 48, 25, 1415, 33, 6, 22, 12, 215, 28, 77, 52, 5, 14, 407, 16, 82, 2, 8, 4, 107, 117, 5952, 15, 256, 4, 2, 7, 3766, 5, 723, 36, 71, 43, 530, 476, 26, 400, 317, 46, 7, 4, 2, 1029, 13, 104, 88, 4, 381, 15, 297, 98, 32, 2071, 56, 26, 141, 6, 194, 7486, 18, 4, 226, 22, 21, 134, 476, 26, 480, 5, 144, 30, 5535, 18, 51, 36, 28, 224, 92, 25, 104, 4, 226, 65, 16, 38, 1334, 88, 12, 16, 283, 5, 16, 4472, 113, 103, 32, 15, 16, 5345, 19, 178, 32]\n"
     ]
    }
   ],
   "source": [
    "# Our first review with number representation (each integer represents a word in a dictionary)\n",
    "print(train_data[0])"
   ]
  },
  {
   "cell_type": "markdown",
   "metadata": {},
   "source": [
    "#### <b>  Convert the integers back to words"
   ]
  },
  {
   "cell_type": "code",
   "execution_count": 38,
   "metadata": {},
   "outputs": [],
   "source": [
    "# A dictionary mapping words to an integer index\n",
    "# Retrieves the dictionary mapping word indices back to words.\n",
    "word_index = imdb.get_word_index()"
   ]
  },
  {
   "cell_type": "code",
   "execution_count": 39,
   "metadata": {},
   "outputs": [],
   "source": [
    "# The first indices are reserved\n",
    "word_index = {k:(v+3) for k,v in word_index.items()}\n",
    "word_index[\"<PAD>\"] = 0\n",
    "word_index[\"<START>\"] = 1\n",
    "word_index[\"<UNK>\"] = 2  # unknown\n",
    "word_index[\"<UNUSED>\"] = 3"
   ]
  },
  {
   "cell_type": "code",
   "execution_count": 40,
   "metadata": {},
   "outputs": [],
   "source": [
    "reverse_word_index = dict([(value, key) for (key, value) in word_index.items()])"
   ]
  },
  {
   "cell_type": "code",
   "execution_count": 41,
   "metadata": {},
   "outputs": [],
   "source": [
    "def decode_review(text):\n",
    "    return ' '.join([reverse_word_index.get(i, '?') for i in text])"
   ]
  },
  {
   "cell_type": "code",
   "execution_count": 42,
   "metadata": {},
   "outputs": [
    {
     "data": {
      "text/plain": [
       "\"<START> this film was just brilliant casting location scenery story direction everyone's really suited the part they played and you could just imagine being there robert <UNK> is an amazing actor and now the same being director <UNK> father came from the same scottish island as myself so i loved the fact there was a real connection with this film the witty remarks throughout the film were great it was just brilliant so much that i bought the film as soon as it was released for <UNK> and would recommend it to everyone to watch and the fly fishing was amazing really cried at the end it was so sad and you know what they say if you cry at a film it must have been good and this definitely was also <UNK> to the two little boy's that played the <UNK> of norman and paul they were just brilliant children are often left out of the <UNK> list i think because the stars that play them all grown up are such a big profile for the whole film but these children are amazing and should be praised for what they have done don't you think the whole story was so lovely because it was true and was someone's life after all that was shared with us all\""
      ]
     },
     "execution_count": 42,
     "metadata": {},
     "output_type": "execute_result"
    }
   ],
   "source": [
    "# Our review with text representation\n",
    "decode_review(train_data[0])"
   ]
  },
  {
   "cell_type": "markdown",
   "metadata": {},
   "source": [
    "#### <b>  Prepare Data"
   ]
  },
  {
   "cell_type": "markdown",
   "metadata": {},
   "source": [
    "The reviews—the arrays of integers—must be converted to tensors before fed into the neural network:\n",
    "\n",
    "1 - Convert the arrays into vectors of 0s and 1s indicating word occurrence, similar to a one-hot encoding\n",
    "\n",
    "2 - max_length * num_reviews. We can use an embedding layer capable of handling this shape as the first layer in our network. (used here)"
   ]
  },
  {
   "cell_type": "code",
   "execution_count": 43,
   "metadata": {},
   "outputs": [
    {
     "data": {
      "text/plain": [
       "((25000,), (25000,))"
      ]
     },
     "execution_count": 43,
     "metadata": {},
     "output_type": "execute_result"
    }
   ],
   "source": [
    "train_data.shape, test_data.shape"
   ]
  },
  {
   "cell_type": "code",
   "execution_count": 44,
   "metadata": {},
   "outputs": [],
   "source": [
    "# Pads sequences to the same length (standardize the length)\n",
    "train_data = keras.preprocessing.sequence.pad_sequences(train_data,\n",
    "                                                        value=word_index[\"<PAD>\"],\n",
    "                                                        padding='post',\n",
    "                                                        maxlen=256)\n",
    "\n",
    "test_data = keras.preprocessing.sequence.pad_sequences(test_data,\n",
    "                                                       value=word_index[\"<PAD>\"],\n",
    "                                                       padding='post',\n",
    "                                                       maxlen=256)\n"
   ]
  },
  {
   "cell_type": "code",
   "execution_count": 45,
   "metadata": {},
   "outputs": [
    {
     "data": {
      "text/plain": [
       "(256, 256)"
      ]
     },
     "execution_count": 45,
     "metadata": {},
     "output_type": "execute_result"
    }
   ],
   "source": [
    "len(train_data[0]), len(train_data[1])"
   ]
  },
  {
   "cell_type": "markdown",
   "metadata": {},
   "source": [
    "#### <b>  Build the Model"
   ]
  },
  {
   "cell_type": "code",
   "execution_count": 46,
   "metadata": {},
   "outputs": [
    {
     "name": "stdout",
     "output_type": "stream",
     "text": [
      "Model: \"sequential_1\"\n",
      "_________________________________________________________________\n",
      "Layer (type)                 Output Shape              Param #   \n",
      "=================================================================\n",
      "embedding_1 (Embedding)      (None, None, 16)          160000    \n",
      "_________________________________________________________________\n",
      "global_average_pooling1d_1 ( (None, 16)                0         \n",
      "_________________________________________________________________\n",
      "dense_2 (Dense)              (None, 16)                272       \n",
      "_________________________________________________________________\n",
      "dense_3 (Dense)              (None, 1)                 17        \n",
      "=================================================================\n",
      "Total params: 160,289\n",
      "Trainable params: 160,289\n",
      "Non-trainable params: 0\n",
      "_________________________________________________________________\n"
     ]
    }
   ],
   "source": [
    "model = keras.Sequential()\n",
    "'''\n",
    "Embedding: takes the integer-encoded vocabulary and looks up \n",
    "the embedding vector for each word-index\n",
    "GlobalAveragePooling1D: returns a fixed-length output vector for each example by averaging\n",
    "over the sequence dimension\n",
    "Dense: this fixed-length output vector is piped through a fully-connected layer with 16 hidden units\n",
    "Dense: output sigmoide 0 or 1\n",
    "'''\n",
    "model.add(keras.layers.Embedding(10000, 16))\n",
    "model.add(keras.layers.GlobalAveragePooling1D())\n",
    "model.add(keras.layers.Dense(16, activation=tf.nn.relu))\n",
    "model.add(keras.layers.Dense(1, activation=tf.nn.sigmoid))\n",
    "model.summary()"
   ]
  },
  {
   "cell_type": "code",
   "execution_count": 47,
   "metadata": {},
   "outputs": [],
   "source": [
    "model.compile(optimizer = 'adam',\n",
    "             loss = 'binary_crossentropy',\n",
    "             metrics=['acc'])"
   ]
  },
  {
   "cell_type": "markdown",
   "metadata": {},
   "source": [
    "#### <b>  Creating a Validation Model\n",
    "    \n",
    "    \n",
    "When training, we want to check the accuracy of the model on data it hasn't seen before. Create a validation set by setting apart 10,000 examples from the original training data. (Why not use the testing set now? Our goal is to develop and tune our model using only the training data, then use the test data just once to evaluate our accuracy)."
   ]
  },
  {
   "cell_type": "code",
   "execution_count": 48,
   "metadata": {},
   "outputs": [],
   "source": [
    "x_val = train_data[:10000]\n",
    "partial_x_train = train_data[10000:]\n",
    "\n",
    "y_val = train_labels[:10000]\n",
    "partial_y_train = train_labels[10000:]"
   ]
  },
  {
   "cell_type": "code",
   "execution_count": 49,
   "metadata": {},
   "outputs": [
    {
     "data": {
      "text/plain": [
       "((15000, 256), (15000,))"
      ]
     },
     "execution_count": 49,
     "metadata": {},
     "output_type": "execute_result"
    }
   ],
   "source": [
    "# Training samples\n",
    "partial_x_train.shape, partial_y_train.shape"
   ]
  },
  {
   "cell_type": "code",
   "execution_count": 50,
   "metadata": {},
   "outputs": [
    {
     "data": {
      "text/plain": [
       "((25000, 256), (25000,))"
      ]
     },
     "execution_count": 50,
     "metadata": {},
     "output_type": "execute_result"
    }
   ],
   "source": [
    "# Test samples\n",
    "test_data.shape, test_labels.shape"
   ]
  },
  {
   "cell_type": "code",
   "execution_count": 51,
   "metadata": {},
   "outputs": [
    {
     "data": {
      "text/plain": [
       "((10000, 256), (10000,))"
      ]
     },
     "execution_count": 51,
     "metadata": {},
     "output_type": "execute_result"
    }
   ],
   "source": [
    "# Validation samples\n",
    "x_val.shape, y_val.shape"
   ]
  },
  {
   "cell_type": "markdown",
   "metadata": {},
   "source": [
    "#### <b>  Train the Model"
   ]
  },
  {
   "cell_type": "code",
   "execution_count": 52,
   "metadata": {
    "collapsed": true,
    "jupyter": {
     "outputs_hidden": true
    }
   },
   "outputs": [
    {
     "name": "stdout",
     "output_type": "stream",
     "text": [
      "Train on 15000 samples, validate on 10000 samples\n",
      "Epoch 1/40\n",
      "15000/15000 [==============================] - 1s 53us/sample - loss: 0.6925 - acc: 0.5560 - val_loss: 0.6913 - val_acc: 0.6021\n",
      "Epoch 2/40\n",
      "15000/15000 [==============================] - 1s 36us/sample - loss: 0.6888 - acc: 0.6747 - val_loss: 0.6857 - val_acc: 0.7016\n",
      "Epoch 3/40\n",
      "15000/15000 [==============================] - 1s 35us/sample - loss: 0.6791 - acc: 0.7415 - val_loss: 0.6726 - val_acc: 0.7523\n",
      "Epoch 4/40\n",
      "15000/15000 [==============================] - 1s 34us/sample - loss: 0.6605 - acc: 0.7604 - val_loss: 0.6506 - val_acc: 0.7487\n",
      "Epoch 5/40\n",
      "15000/15000 [==============================] - 1s 34us/sample - loss: 0.6315 - acc: 0.7843 - val_loss: 0.6194 - val_acc: 0.7726\n",
      "Epoch 6/40\n",
      "15000/15000 [==============================] - 1s 34us/sample - loss: 0.5932 - acc: 0.8021 - val_loss: 0.5814 - val_acc: 0.7946\n",
      "Epoch 7/40\n",
      "15000/15000 [==============================] - 1s 35us/sample - loss: 0.5478 - acc: 0.8200 - val_loss: 0.5376 - val_acc: 0.8092\n",
      "Epoch 8/40\n",
      "15000/15000 [==============================] - 1s 34us/sample - loss: 0.5002 - acc: 0.8383 - val_loss: 0.4956 - val_acc: 0.8249\n",
      "Epoch 9/40\n",
      "15000/15000 [==============================] - 1s 33us/sample - loss: 0.4547 - acc: 0.8525 - val_loss: 0.4567 - val_acc: 0.8371\n",
      "Epoch 10/40\n",
      "15000/15000 [==============================] - 1s 34us/sample - loss: 0.4139 - acc: 0.8664 - val_loss: 0.4240 - val_acc: 0.8461\n",
      "Epoch 11/40\n",
      "15000/15000 [==============================] - 1s 33us/sample - loss: 0.3790 - acc: 0.8756 - val_loss: 0.3968 - val_acc: 0.8543\n",
      "Epoch 12/40\n",
      "15000/15000 [==============================] - 1s 33us/sample - loss: 0.3495 - acc: 0.8843 - val_loss: 0.3757 - val_acc: 0.8578\n",
      "Epoch 13/40\n",
      "15000/15000 [==============================] - 1s 34us/sample - loss: 0.3255 - acc: 0.8901 - val_loss: 0.3571 - val_acc: 0.8659\n",
      "Epoch 14/40\n",
      "15000/15000 [==============================] - 1s 33us/sample - loss: 0.3040 - acc: 0.8963 - val_loss: 0.3435 - val_acc: 0.8693\n",
      "Epoch 15/40\n",
      "15000/15000 [==============================] - 1s 33us/sample - loss: 0.2863 - acc: 0.9009 - val_loss: 0.3324 - val_acc: 0.8717\n",
      "Epoch 16/40\n",
      "15000/15000 [==============================] - 1s 34us/sample - loss: 0.2704 - acc: 0.9061 - val_loss: 0.3230 - val_acc: 0.8733\n",
      "Epoch 17/40\n",
      "15000/15000 [==============================] - 1s 34us/sample - loss: 0.2558 - acc: 0.9109 - val_loss: 0.3152 - val_acc: 0.8748\n",
      "Epoch 18/40\n",
      "15000/15000 [==============================] - 1s 34us/sample - loss: 0.2430 - acc: 0.9153 - val_loss: 0.3084 - val_acc: 0.8796\n",
      "Epoch 19/40\n",
      "15000/15000 [==============================] - 1s 34us/sample - loss: 0.2314 - acc: 0.9188 - val_loss: 0.3028 - val_acc: 0.8794\n",
      "Epoch 20/40\n",
      "15000/15000 [==============================] - 1s 34us/sample - loss: 0.2209 - acc: 0.9229 - val_loss: 0.2988 - val_acc: 0.8806\n",
      "Epoch 21/40\n",
      "15000/15000 [==============================] - 1s 34us/sample - loss: 0.2104 - acc: 0.9278 - val_loss: 0.2953 - val_acc: 0.8809\n",
      "Epoch 22/40\n",
      "15000/15000 [==============================] - 1s 34us/sample - loss: 0.2016 - acc: 0.9293 - val_loss: 0.2924 - val_acc: 0.8832\n",
      "Epoch 23/40\n",
      "15000/15000 [==============================] - 1s 33us/sample - loss: 0.1926 - acc: 0.9341 - val_loss: 0.2907 - val_acc: 0.8827\n",
      "Epoch 24/40\n",
      "15000/15000 [==============================] - 1s 34us/sample - loss: 0.1848 - acc: 0.9379 - val_loss: 0.2884 - val_acc: 0.8843\n",
      "Epoch 25/40\n",
      "15000/15000 [==============================] - 1s 34us/sample - loss: 0.1769 - acc: 0.9421 - val_loss: 0.2868 - val_acc: 0.8841\n",
      "Epoch 26/40\n",
      "15000/15000 [==============================] - 1s 34us/sample - loss: 0.1698 - acc: 0.9447 - val_loss: 0.2869 - val_acc: 0.8833\n",
      "Epoch 27/40\n",
      "15000/15000 [==============================] - 1s 34us/sample - loss: 0.1631 - acc: 0.9479 - val_loss: 0.2860 - val_acc: 0.8843\n",
      "Epoch 28/40\n",
      "15000/15000 [==============================] - 1s 33us/sample - loss: 0.1567 - acc: 0.9510 - val_loss: 0.2857 - val_acc: 0.8849\n",
      "Epoch 29/40\n",
      "15000/15000 [==============================] - 1s 34us/sample - loss: 0.1512 - acc: 0.9534 - val_loss: 0.2875 - val_acc: 0.8836\n",
      "Epoch 30/40\n",
      "15000/15000 [==============================] - 1s 34us/sample - loss: 0.1454 - acc: 0.9551 - val_loss: 0.2863 - val_acc: 0.8844\n",
      "Epoch 31/40\n",
      "15000/15000 [==============================] - 1s 33us/sample - loss: 0.1395 - acc: 0.9579 - val_loss: 0.2871 - val_acc: 0.8856\n",
      "Epoch 32/40\n",
      "15000/15000 [==============================] - 1s 34us/sample - loss: 0.1341 - acc: 0.9598 - val_loss: 0.2883 - val_acc: 0.8861\n",
      "Epoch 33/40\n",
      "15000/15000 [==============================] - 1s 34us/sample - loss: 0.1290 - acc: 0.9615 - val_loss: 0.2903 - val_acc: 0.8845\n",
      "Epoch 34/40\n",
      "15000/15000 [==============================] - 1s 34us/sample - loss: 0.1244 - acc: 0.9641 - val_loss: 0.2917 - val_acc: 0.8856\n",
      "Epoch 35/40\n",
      "15000/15000 [==============================] - 1s 34us/sample - loss: 0.1202 - acc: 0.9647 - val_loss: 0.2943 - val_acc: 0.8854\n",
      "Epoch 36/40\n",
      "15000/15000 [==============================] - 1s 34us/sample - loss: 0.1155 - acc: 0.9676 - val_loss: 0.2958 - val_acc: 0.8860\n",
      "Epoch 37/40\n",
      "15000/15000 [==============================] - 1s 35us/sample - loss: 0.1112 - acc: 0.9691 - val_loss: 0.2980 - val_acc: 0.8843\n",
      "Epoch 38/40\n",
      "15000/15000 [==============================] - 1s 34us/sample - loss: 0.1071 - acc: 0.9701 - val_loss: 0.3012 - val_acc: 0.8832\n",
      "Epoch 39/40\n",
      "15000/15000 [==============================] - 1s 34us/sample - loss: 0.1038 - acc: 0.9712 - val_loss: 0.3040 - val_acc: 0.8826\n",
      "Epoch 40/40\n",
      "15000/15000 [==============================] - 1s 35us/sample - loss: 0.0997 - acc: 0.9731 - val_loss: 0.3061 - val_acc: 0.8829\n"
     ]
    }
   ],
   "source": [
    "history = model.fit(partial_x_train,\n",
    "                   partial_y_train,\n",
    "                   epochs=40,\n",
    "                   batch_size=512,\n",
    "                   validation_data=(x_val, y_val),\n",
    "                   verbose=1)"
   ]
  },
  {
   "cell_type": "code",
   "execution_count": 53,
   "metadata": {},
   "outputs": [
    {
     "name": "stdout",
     "output_type": "stream",
     "text": [
      "25000/25000 [==============================] - 0s 17us/sample - loss: 0.3264 - acc: 0.8734\n",
      "[0.326355365896225, 0.87344]\n"
     ]
    }
   ],
   "source": [
    "results = model.evaluate(test_data, test_labels)\n",
    "\n",
    "print(results)\n"
   ]
  },
  {
   "cell_type": "code",
   "execution_count": 54,
   "metadata": {},
   "outputs": [
    {
     "data": {
      "text/plain": [
       "dict_keys(['loss', 'acc', 'val_loss', 'val_acc'])"
      ]
     },
     "execution_count": 54,
     "metadata": {},
     "output_type": "execute_result"
    }
   ],
   "source": [
    "history_dict = history.history\n",
    "history_dict.keys()"
   ]
  },
  {
   "cell_type": "code",
   "execution_count": 55,
   "metadata": {},
   "outputs": [
    {
     "data": {
      "image/png": "[encoded data removed]",
      "text/plain": [
       "<Figure size 432x288 with 1 Axes>"
      ]
     },
     "metadata": {
      "needs_background": "light"
     },
     "output_type": "display_data"
    }
   ],
   "source": [
    "import matplotlib.pyplot as plt\n",
    "\n",
    "acc = history_dict['acc']\n",
    "val_acc = history_dict['val_acc']\n",
    "loss = history_dict['loss']\n",
    "val_loss = history_dict['val_loss']\n",
    "\n",
    "epochs = range(1, len(acc) + 1)\n",
    "\n",
    "# \"bo\" is for \"blue dot\"\n",
    "plt.plot(epochs, loss, 'ro', label='Training loss')\n",
    "# b is for \"solid blue line\"\n",
    "plt.plot(epochs, val_loss, 'r', label='Validation loss')\n",
    "plt.title('Training and validation loss')\n",
    "plt.xlabel('Epochs')\n",
    "plt.ylabel('Loss')\n",
    "plt.legend()\n",
    "\n",
    "plt.show()"
   ]
  },
  {
   "cell_type": "code",
   "execution_count": 56,
   "metadata": {},
   "outputs": [
    {
     "data": {
      "image/png": "[encoded data removed]",
      "text/plain": [
       "<Figure size 432x288 with 1 Axes>"
      ]
     },
     "metadata": {
      "needs_background": "light"
     },
     "output_type": "display_data"
    }
   ],
   "source": [
    "plt.clf()   # clear figure\n",
    "\n",
    "plt.plot(epochs, acc, 'bo', label='Training acc')\n",
    "plt.plot(epochs, val_acc, 'b', label='Validation acc')\n",
    "plt.title('Training and validation accuracy')\n",
    "plt.xlabel('Epochs')\n",
    "plt.ylabel('Accuracy')\n",
    "plt.legend()\n",
    "\n",
    "plt.show()"
   ]
  },
  {
   "cell_type": "markdown",
   "metadata": {},
   "source": [
    "In this plot, the dots represent the training loss and accuracy, and the solid lines are the validation loss and accuracy.\n",
    "\n",
    "Notice the training loss decreases with each epoch and the training accuracy increases with each epoch. This is expected when using a gradient descent optimization—it should minimize the desired quantity on every iteration.\n",
    "\n",
    "This isn't the case for the validation loss and accuracy—they seem to peak after about twenty epochs. This is an example of overfitting: the model performs better on the training data than it does on data it has never seen before. After this point, the model over-optimizes and learns representations specific to the training data that do not generalize to test data.\n",
    "\n",
    "For this particular case, we could prevent overfitting by simply stopping the training after twenty or so epochs. Later, you'll see how to do this automatically with a callback."
   ]
  },
  {
   "cell_type": "code",
   "execution_count": 83,
   "metadata": {},
   "outputs": [],
   "source": [
    "'''\n",
    "The model is overfitting so we use EarlyStopping to Stop \n",
    "training when a monitored quantity has stopped improving.\n",
    "verbose = shows the number of epoch when improve stops\n",
    "'''\n",
    "from keras.callbacks import EarlyStopping\n",
    "es = EarlyStopping(monitor='val_loss', mode='min', verbose=1, patience=10)"
   ]
  },
  {
   "cell_type": "code",
   "execution_count": 84,
   "metadata": {},
   "outputs": [
    {
     "name": "stdout",
     "output_type": "stream",
     "text": [
      "Train on 15000 samples, validate on 10000 samples\n",
      "Epoch 1/100\n",
      "15000/15000 [==============================] - 1s 46us/sample - loss: 0.0073 - acc: 0.9996 - val_loss: 0.6601 - val_acc: 0.8623\n",
      "Epoch 2/100\n",
      "15000/15000 [==============================] - 1s 44us/sample - loss: 0.0066 - acc: 0.9995 - val_loss: 0.6703 - val_acc: 0.8625\n",
      "Epoch 3/100\n",
      "15000/15000 [==============================] - 1s 43us/sample - loss: 0.0059 - acc: 0.9995 - val_loss: 0.6813 - val_acc: 0.8624\n",
      "Epoch 4/100\n",
      "15000/15000 [==============================] - 1s 43us/sample - loss: 0.0053 - acc: 0.9997 - val_loss: 0.6974 - val_acc: 0.8624\n",
      "Epoch 5/100\n",
      "15000/15000 [==============================] - 1s 43us/sample - loss: 0.0049 - acc: 0.9998 - val_loss: 0.7056 - val_acc: 0.8616\n",
      "Epoch 6/100\n",
      "15000/15000 [==============================] - 1s 47us/sample - loss: 0.0044 - acc: 0.9998 - val_loss: 0.7132 - val_acc: 0.8623\n",
      "Epoch 7/100\n",
      "15000/15000 [==============================] - 1s 44us/sample - loss: 0.0041 - acc: 0.9999 - val_loss: 0.7243 - val_acc: 0.8619\n",
      "Epoch 8/100\n",
      "15000/15000 [==============================] - 1s 44us/sample - loss: 0.0037 - acc: 0.9998 - val_loss: 0.7355 - val_acc: 0.8618\n",
      "Epoch 9/100\n",
      "15000/15000 [==============================] - 1s 44us/sample - loss: 0.0035 - acc: 0.9999 - val_loss: 0.7454 - val_acc: 0.8613\n",
      "Epoch 10/100\n",
      "15000/15000 [==============================] - 1s 44us/sample - loss: 0.0034 - acc: 0.9999 - val_loss: 0.7486 - val_acc: 0.8609\n",
      "Epoch 11/100\n",
      "15000/15000 [==============================] - 1s 46us/sample - loss: 0.0031 - acc: 0.9999 - val_loss: 0.7646 - val_acc: 0.8613\n",
      "Epoch 00011: early stopping\n"
     ]
    }
   ],
   "source": [
    "history = model.fit(partial_x_train,\n",
    "                   partial_y_train,\n",
    "                   epochs=100,\n",
    "                   batch_size=200,\n",
    "                   validation_data=(x_val, y_val),\n",
    "                   verbose=1, callbacks=[es])"
   ]
  },
  {
   "cell_type": "code",
   "execution_count": 85,
   "metadata": {},
   "outputs": [
    {
     "name": "stdout",
     "output_type": "stream",
     "text": [
      "25000/25000 [==============================] - 0s 17us/sample - loss: 0.8155 - acc: 0.8475\n",
      "[0.8155274848437309, 0.84752]\n"
     ]
    }
   ],
   "source": [
    "results = model.evaluate(test_data, test_labels)\n",
    "print(results)"
   ]
  },
  {
   "cell_type": "code",
   "execution_count": 86,
   "metadata": {},
   "outputs": [
    {
     "data": {
      "text/plain": [
       "dict_keys(['loss', 'acc', 'val_loss', 'val_acc'])"
      ]
     },
     "execution_count": 86,
     "metadata": {},
     "output_type": "execute_result"
    }
   ],
   "source": [
    "history_dict = history.history\n",
    "history_dict.keys()"
   ]
  },
  {
   "cell_type": "code",
   "execution_count": 87,
   "metadata": {},
   "outputs": [
    {
     "data": {
      "image/png": "[encoded data removed]",
      "text/plain": [
       "<Figure size 432x288 with 1 Axes>"
      ]
     },
     "metadata": {
      "needs_background": "light"
     },
     "output_type": "display_data"
    }
   ],
   "source": [
    "import matplotlib.pyplot as plt\n",
    "\n",
    "acc = history_dict['acc']\n",
    "val_acc = history_dict['val_acc']\n",
    "loss = history_dict['loss']\n",
    "val_loss = history_dict['val_loss']\n",
    "\n",
    "epochs = range(1, len(acc) + 1)\n",
    "\n",
    "# \"bo\" is for \"blue dot\"\n",
    "plt.plot(epochs, loss, 'ro', label='Training loss')\n",
    "# b is for \"solid blue line\"\n",
    "plt.plot(epochs, val_loss, 'r', label='Validation loss')\n",
    "plt.title('Training and validation loss')\n",
    "plt.xlabel('Epochs')\n",
    "plt.ylabel('Loss')\n",
    "plt.legend()\n",
    "\n",
    "plt.show()"
   ]
  },
  {
   "cell_type": "code",
   "execution_count": 88,
   "metadata": {},
   "outputs": [
    {
     "data": {
      "image/png": "[encoded data removed]",
      "text/plain": [
       "<Figure size 432x288 with 1 Axes>"
      ]
     },
     "metadata": {
      "needs_background": "light"
     },
     "output_type": "display_data"
    }
   ],
   "source": [
    "plt.clf()   # clear figure\n",
    "\n",
    "plt.plot(epochs, acc, 'bo', label='Training acc')\n",
    "plt.plot(epochs, val_acc, 'b', label='Validation acc')\n",
    "plt.title('Training and validation accuracy')\n",
    "plt.xlabel('Epochs')\n",
    "plt.ylabel('Accuracy')\n",
    "plt.legend()\n",
    "\n",
    "plt.show()"
   ]
  },
  {
   "cell_type": "code",
   "execution_count": null,
   "metadata": {},
   "outputs": [],
   "source": []
  }
 ],
 "metadata": {
  "kernelspec": {
   "display_name": "Python 3",
   "language": "python",
   "name": "python3"
  },
  "language_info": {
   "codemirror_mode": {
    "name": "ipython",
    "version": 3
   },
   "file_extension": ".py",
   "mimetype": "text/x-python",
   "name": "python",
   "nbconvert_exporter": "python",
   "pygments_lexer": "ipython3",
   "version": "3.7.4"
  }
 },
 "nbformat": 4,
 "nbformat_minor": 4
}
